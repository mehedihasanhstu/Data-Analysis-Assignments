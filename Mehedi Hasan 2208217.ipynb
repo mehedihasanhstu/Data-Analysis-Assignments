{
 "cells": [
  {
   "cell_type": "code",
   "execution_count": 11,
   "id": "4a9676e5-5c34-49c1-8d24-e47d8dc6342e",
   "metadata": {},
   "outputs": [
    {
     "name": "stdout",
     "output_type": "stream",
     "text": [
      "Hello World . This Is Mehedi Hasan\n"
     ]
    }
   ],
   "source": [
    "\"\"\"1.Write a function that takes a sentence as an input parameter and replaces the first letter of \n",
    "every word with the corresponding uppercase letter and the rest lowercase without using built-in functions.\"\"\"\n",
    "def capitalize_words(sentence):\n",
    "    words = sentence.split()\n",
    "    result = []\n",
    "    for word in words:\n",
    "        capitalized_word = word[0].upper() + word[1:].lower()\n",
    "        result.append(capitalized_word)\n",
    "    return ' '.join(result)\n",
    "\n",
    "print(capitalize_words(\"hello world . this is mehedi hasan\"))"
   ]
  },
  {
   "cell_type": "code",
   "execution_count": 12,
   "id": "e1b78607-fa7b-4cb2-bffb-c45e8a97ba55",
   "metadata": {},
   "outputs": [
    {
     "name": "stdout",
     "output_type": "stream",
     "text": [
      "5\n"
     ]
    }
   ],
   "source": [
    "\"\"\"2. Count the number of vowels in a string.\"\"\"\n",
    "def count_vowels(s):\n",
    "    vowels = \"aAeEiIoOuU\"\n",
    "    count = 0\n",
    "    for char in s:\n",
    "        if char in vowels:\n",
    "            count += 1\n",
    "    return count\n",
    "\n",
    "print(count_vowels(\"Mehedi Hasan\"))"
   ]
  },
  {
   "cell_type": "code",
   "execution_count": 13,
   "id": "d51f47ed-a00f-403e-b133-1d35e9ec0b3c",
   "metadata": {},
   "outputs": [
    {
     "name": "stdout",
     "output_type": "stream",
     "text": [
      "Grade C\n"
     ]
    }
   ],
   "source": [
    "\"\"\"3. Write a program that simulates a grading system:\n",
    "• If marks ≥ 90: Grade A\n",
    "• If marks ≥ 75: Grade B\n",
    "• If marks ≥ 60: Grade C\n",
    "• Else: Grade F\"\"\"\n",
    "def grade_system(marks):\n",
    "    if marks >= 90:\n",
    "        return \"Grade A\"\n",
    "    elif marks >= 75:\n",
    "        return \"Grade B\"\n",
    "    elif marks >= 60:\n",
    "        return \"Grade C\"\n",
    "    else:\n",
    "        return \"Grade F\"\n",
    "\n",
    "print(grade_system(70))"
   ]
  },
  {
   "cell_type": "code",
   "execution_count": 15,
   "id": "1ff97ba5-0831-475d-84d2-6a1b2913e4e4",
   "metadata": {},
   "outputs": [
    {
     "name": "stdout",
     "output_type": "stream",
     "text": [
      "2 3 5 7 11 13 17 19 23 29 31 37 41 43 47 53 59 61 67 71 73 79 83 89 97 "
     ]
    }
   ],
   "source": [
    "\"\"\"4. How do you use a for loop to print all prime numbers between 1 and 100?\"\"\"\n",
    "for num in range(2, 100):\n",
    "    prime = True\n",
    "    for i in range(2, num):\n",
    "        if num % i == 0:\n",
    "            prime = False\n",
    "            break\n",
    "    if prime:\n",
    "        print(num, end=\" \")"
   ]
  },
  {
   "cell_type": "code",
   "execution_count": 19,
   "id": "d42b1ec2-66f2-42bd-9c41-53eac8c346e5",
   "metadata": {},
   "outputs": [
    {
     "name": "stdout",
     "output_type": "stream",
     "text": [
      "                  1  \n",
      "                1  1  \n",
      "              1  2  1  \n",
      "            1  3  3  1  \n",
      "          1  4  6  4  1  \n",
      "        1  5  10  10  5  1  \n",
      "      1  6  15  20  15  6  1  \n",
      "    1  7  21  35  35  21  7  1  \n",
      "  1  8  28  56  70  56  28  8  1  \n",
      "1  9  36  84  126  126  84  36  9  1  \n"
     ]
    }
   ],
   "source": [
    "\"\"\"5. How do you use nested loops to generate Pascal’s Triangle up to n rows?\"\"\"\n",
    "n = int(input(\"Enter number of rows: \"))\n",
    "\n",
    "for i in range(n):\n",
    "    for j in range(n - i - 1):\n",
    "        print(\" \", end=\" \")\n",
    "\n",
    "    num = 1\n",
    "    for k in range(i + 1):\n",
    "        print(f\"{num} \", end=\" \")\n",
    "        num = num * (i - k) // (k + 1)\n",
    "\n",
    "    print()"
   ]
  },
  {
   "cell_type": "code",
   "execution_count": 20,
   "id": "259376ea-f6c3-4e94-81f0-0ca944e38f16",
   "metadata": {},
   "outputs": [
    {
     "name": "stdout",
     "output_type": "stream",
     "text": [
      "[[4, 4], [10, 8]]\n"
     ]
    }
   ],
   "source": [
    "\"\"\"6. Write a Python program to perform multiplication of two square matrices.\"\"\"\n",
    "def multiply_matrices(x, y):\n",
    "    size = len(x)\n",
    "    result = [[0] * size for _ in range(size)]\n",
    "    for i in range(size):\n",
    "        for j in range(size):\n",
    "            for k in range(size):\n",
    "                result[i][j] += x[i][k] * y[k][j]\n",
    "    return result\n",
    "\n",
    "x = [[1, 2], [3, 4]]\n",
    "y = [[2, 0], [1, 2]]\n",
    "print(multiply_matrices(x, y))"
   ]
  },
  {
   "cell_type": "code",
   "execution_count": 22,
   "id": "24cb7178-3a57-4418-be9b-c6000699b4a8",
   "metadata": {},
   "outputs": [
    {
     "name": "stdout",
     "output_type": "stream",
     "text": [
      "The distance between the points is 2.83\n"
     ]
    }
   ],
   "source": [
    "\"\"\"7. Given coordinates (x1, y1), (x2, y2), find the distance between two points.\"\"\"\n",
    "import math\n",
    "\n",
    "x1 = float(input(\"Enter x1: \"))\n",
    "y1 = float(input(\"Enter y1: \"))\n",
    "x2 = float(input(\"Enter x2: \"))\n",
    "y2 = float(input(\"Enter y2: \"))\n",
    "\n",
    "distance = math.sqrt((x2 - x1)**2 + (y2 - y1)**2)\n",
    "\n",
    "print(f\"The distance between the points is {distance:.2f}\")"
   ]
  },
  {
   "cell_type": "code",
   "execution_count": 23,
   "id": "44c60551-310f-4ffd-81e5-6f0141a01f4f",
   "metadata": {},
   "outputs": [
    {
     "name": "stdout",
     "output_type": "stream",
     "text": [
      "Digit\n"
     ]
    }
   ],
   "source": [
    "\"\"\"8.Write a program to check whether the given input is a digit, lowercase character, uppercase \n",
    "character, or special character (use 'if-else-if' ladder).\"\"\"\n",
    "def classify_character(char):\n",
    "    if char.isdigit():\n",
    "        return \"Digit\"\n",
    "    elif char.islower():\n",
    "        return \"Lowercase Letter\"\n",
    "    elif char.isupper():\n",
    "        return \"Uppercase Letter\"\n",
    "    else:\n",
    "        return \"Special Character\"\n",
    "\n",
    "print(classify_character(\"17\"))"
   ]
  },
  {
   "cell_type": "code",
   "execution_count": 28,
   "id": "907a5904-693a-408f-a8f1-9cd2279cd939",
   "metadata": {},
   "outputs": [
    {
     "name": "stdout",
     "output_type": "stream",
     "text": [
      "True\n"
     ]
    }
   ],
   "source": [
    "\"\"\"9.Write a function called has_duplicates that takes a list and returns True if any element appears \n",
    "more than once.\"\"\"\n",
    "def has_duplicates(lst):\n",
    "    return len(lst) != len(set(lst))\n",
    "\n",
    "print(has_duplicates([1, 2, 3, 4, 1]))"
   ]
  },
  {
   "cell_type": "code",
   "execution_count": 30,
   "id": "a832115f-97ea-4dc7-87e1-b8257fb82d2d",
   "metadata": {},
   "outputs": [
    {
     "name": "stdout",
     "output_type": "stream",
     "text": [
      "[1, 4, 9, 16, 25, 36, 49, 81, 100]\n"
     ]
    }
   ],
   "source": [
    "\"\"\"10. Square all numbers in a list using list comprehension.\"\"\"\n",
    "numbers = [1, 2, 3, 4, 5,6,7,9,10]\n",
    "squared_numbers = [x**2 for x in numbers]\n",
    "print(squared_numbers)"
   ]
  },
  {
   "cell_type": "code",
   "execution_count": 32,
   "id": "677bc07b-dee8-42c5-8ee4-45e5b0311bc7",
   "metadata": {},
   "outputs": [
    {
     "name": "stdout",
     "output_type": "stream",
     "text": [
      "15\n"
     ]
    }
   ],
   "source": [
    "\"\"\"11. Find the maximum number in a list without using max().\"\"\"\n",
    "def find_max(lst):\n",
    "    max_num = lst[0]\n",
    "    for num in lst:\n",
    "        if num > max_num:\n",
    "            max_num = num\n",
    "    return max_num\n",
    "\n",
    "print(find_max([7, 4, 2, 15, 5]))"
   ]
  },
  {
   "cell_type": "code",
   "execution_count": null,
   "id": "4c995321-882c-432a-a380-663923615413",
   "metadata": {},
   "outputs": [
    {
     "name": "stdout",
     "output_type": "stream",
     "text": [
      "[2, 4, 6, 8, 10]\n"
     ]
    }
   ],
   "source": [
    "\"\"\"12.Given a list of numbers, use list comprehension to create a new list containing only the even \n",
    "numbers.\"\"\"\n",
    "numbers = [1, 2, 3, 4, 5, 6,7,8,9,10]\n",
    "even_numbers = [x for x in numbers if x % 2 == 0]\n",
    "print(even_numbers)"
   ]
  },
  {
   "cell_type": "code",
   "execution_count": null,
   "id": "3db4eb5b-7923-44b7-b98a-8e707c6d99c0",
   "metadata": {},
   "outputs": [],
   "source": [
    "\"\"\"13. Write a program that keeps taking numbers from the user until they enter 0, then prints the total \n",
    "sum, average, maximum, minimum, and standard deviation\"\"\"\n",
    "import statistics\n",
    "\n",
    "numbers = []\n",
    "while True:\n",
    "    num = int(input(\"Enter a number (0 to stop): \"))\n",
    "    if num == 0:\n",
    "        break\n",
    "    numbers.append(num)\n",
    "\n",
    "print(\"Sum:\", sum(numbers))\n",
    "print(\"Average:\", sum(numbers) / len(numbers))\n",
    "print(\"Max:\", max(numbers))\n",
    "print(\"Min:\", min(numbers))\n",
    "print(\"Standard Deviation:\", statistics.stdev(numbers) if len(numbers) > 1 else 0)"
   ]
  },
  {
   "cell_type": "code",
   "execution_count": null,
   "id": "eb353efc-4d6c-4b69-825d-f9b00725268a",
   "metadata": {},
   "outputs": [
    {
     "name": "stdout",
     "output_type": "stream",
     "text": [
      "List: [1, 2, 3, 4, 5] → Has Duplicates? False\n",
      "List: [1, 2, 3, 4, 1] → Has Duplicates? True\n"
     ]
    }
   ],
   "source": [
    "\"\"\"rite a function called has_duplicates that takes a list and returns True if any element appears \n",
    "more than once.\"\"\"\n",
    "def has_duplicates(lst):\n",
    "    seen = set()\n",
    "    for item in lst:\n",
    "        if item in seen:\n",
    "            return True\n",
    "        seen.add(item)\n",
    "    return False\n",
    "\n",
    "list1 = [1, 2, 3, 4, 5]\n",
    "list2 = [1, 2, 3, 4, 1]\n",
    "\n",
    "print(\"List:\", list1, \"→ Has Duplicates?\", has_duplicates(list1))\n",
    "print(\"List:\", list2, \"→ Has Duplicates?\", has_duplicates(list2))"
   ]
  },
  {
   "cell_type": "code",
   "execution_count": null,
   "id": "efcdaa6c-737d-427e-a770-cd91edf5dc1c",
   "metadata": {},
   "outputs": [
    {
     "name": "stdout",
     "output_type": "stream",
     "text": [
      "[1, 4, 9, 16, 25]\n"
     ]
    }
   ],
   "source": [
    "\"\"\"15. Square all numbers in a list using list comprehension\"\"\"\n",
    "numbers = [1, 2, 3, 4, 5]\n",
    "squared_numbers = [x**2 for x in numbers]\n",
    "print(squared_numbers)"
   ]
  },
  {
   "cell_type": "code",
   "execution_count": null,
   "id": "edad1559-69a6-4bde-addd-6c9e35b3be0d",
   "metadata": {},
   "outputs": [
    {
     "name": "stdout",
     "output_type": "stream",
     "text": [
      "Odd numbers: [1, 3, 5]\n",
      "Even numbers: [2, 4, 6]\n"
     ]
    }
   ],
   "source": [
    "\"\"\"16. Find the odd, even number in a list.\"\"\"\n",
    "numbers = [1, 2, 3, 4, 5, 6]\n",
    "odd_numbers = [num for num in numbers if num % 2 != 0]\n",
    "even_numbers = [num for num in numbers if num % 2 == 0]\n",
    "\n",
    "print(\"Odd numbers:\", odd_numbers)\n",
    "print(\"Even numbers:\", even_numbers)"
   ]
  },
  {
   "cell_type": "code",
   "execution_count": null,
   "id": "4168c60c-72a4-494c-959e-72d68f687758",
   "metadata": {},
   "outputs": [
    {
     "name": "stdout",
     "output_type": "stream",
     "text": [
      "Even numbers: [2, 4, 6, 8, 10]\n"
     ]
    }
   ],
   "source": [
    "\"\"\"17.Given a list of numbers, use list comprehension to create a new list containing only the even \n",
    "numbers\"\"\"\n",
    "numbers = [1, 2, 3, 4, 5, 6, 7, 8, 9, 10]\n",
    "even_numbers = [num for num in numbers if num % 2 == 0]\n",
    "print(\"Even numbers:\", even_numbers)"
   ]
  },
  {
   "cell_type": "code",
   "execution_count": null,
   "id": "e5d14e17-ec4e-483c-bfcb-321ca7cce589",
   "metadata": {},
   "outputs": [
    {
     "name": "stdout",
     "output_type": "stream",
     "text": [
      "Enter a number (0 to stop):  5\n",
      "Enter a number (0 to stop):  10\n",
      "Enter a number (0 to stop):  15\n",
      "Enter a number (0 to stop):  20\n",
      "Enter a number (0 to stop):  30\n",
      "Enter a number (0 to stop):  35\n",
      "Enter a number (0 to stop):  45\n",
      "Enter a number (0 to stop):  0\n"
     ]
    },
    {
     "name": "stdout",
     "output_type": "stream",
     "text": [
      "Sum: 160\n",
      "Average: 22.857142857142858\n",
      "Max: 45\n",
      "Min: 5\n",
      "Standard Deviation: 14.39245834257849\n"
     ]
    }
   ],
   "source": [
    "\"\"\"18. Write a program that keeps taking numbers from the user until they enter 0, then prints the total \n",
    "sum, average, maximum, minimum, and standard deviation.\"\"\"\n",
    "import statistics\n",
    "\n",
    "numbers = []\n",
    "while True:\n",
    "    num = int(input(\"Enter a number (0 to stop): \"))\n",
    "    if num == 0:\n",
    "        break\n",
    "    numbers.append(num)\n",
    "\n",
    "if numbers:\n",
    "    print(\"Sum:\", sum(numbers))\n",
    "    print(\"Average:\", sum(numbers) / len(numbers))\n",
    "    print(\"Max:\", max(numbers))\n",
    "    print(\"Min:\", min(numbers))\n",
    "    print(\"Standard Deviation:\", statistics.stdev(numbers) if len(numbers) > 1 else 0)\n",
    "else:\n",
    "    print(\"No numbers entered.\")"
   ]
  },
  {
   "cell_type": "code",
   "execution_count": null,
   "id": "9fd22e19-1364-4102-a5d1-7cf7a2bd580e",
   "metadata": {},
   "outputs": [
    {
     "name": "stdout",
     "output_type": "stream",
     "text": [
      "{'apple': 2, 'banana': 3, 'orange': 1}\n"
     ]
    }
   ],
   "source": [
    "\"\"\"19. Given a list of words, how can you count the frequency of each word using a dictionary?\"\"\"\n",
    "def word_frequency(words):\n",
    "    freq_dict = {}\n",
    "    for word in words:\n",
    "        freq_dict[word] = freq_dict.get(word, 0) + 1\n",
    "    return freq_dict\n",
    "\n",
    "words_list = [\"apple\", \"banana\", \"apple\", \"orange\", \"banana\", \"banana\"]\n",
    "print(word_frequency(words_list))"
   ]
  },
  {
   "cell_type": "code",
   "execution_count": 4,
   "id": "e63a7c65-b5db-4fff-ba92-a6086f382f1a",
   "metadata": {},
   "outputs": [
    {
     "name": "stdout",
     "output_type": "stream",
     "text": [
      "Mehedi's Science Grade: 85\n"
     ]
    }
   ],
   "source": [
    "\"\"\"20.Given a nested dictionary student = {'name': 'Mehedi', 'grades': {'math': 90, 'science': 85}}, how \n",
    "would you access Mehedi's science grade?\"\"\"\n",
    "student = {'name': 'Mehedi', 'grades': {'math': 90, 'science': 85}}\n",
    "print(\"Mehedi's Science Grade:\", student['grades']['science'])"
   ]
  },
  {
   "cell_type": "code",
   "execution_count": null,
   "id": "20b8f77d-f295-4805-8ab0-aa6fbe0ec8b0",
   "metadata": {},
   "outputs": [
    {
     "name": "stdout",
     "output_type": "stream",
     "text": [
      "True\n"
     ]
    }
   ],
   "source": [
    "\"\"\"21.Validate credit card numbers (16 digits, may have hyphens or spaces as separators, must start \n",
    "with 4, 5, or 6).\"\"\"\n",
    "import re\n",
    "\n",
    "def validate_card(number):\n",
    "    pattern = r'^[456]\\d{3}(-?\\d{4}){3}$'\n",
    "    return bool(re.match(pattern, number))\n",
    "\n",
    "print(validate_card(\"4567-1234-5678-9012\"))"
   ]
  },
  {
   "cell_type": "code",
   "execution_count": null,
   "id": "f056d3b5-8d6d-48e5-991a-522dd6cd0fdf",
   "metadata": {},
   "outputs": [
    {
     "name": "stdout",
     "output_type": "stream",
     "text": [
      "True\n"
     ]
    }
   ],
   "source": [
    "\"\"\"22.Write a regular expression to represent all 10-digit mobile numbers\"\"\"\n",
    "import re\n",
    "\n",
    "pattern = r'^\\d{10}$'\n",
    "print(bool(re.match(pattern, \"9876543210\")))"
   ]
  },
  {
   "cell_type": "code",
   "execution_count": null,
   "id": "1e799f36-ef3a-4d65-8b17-f031b6f15a43",
   "metadata": {},
   "outputs": [
    {
     "name": "stdout",
     "output_type": "stream",
     "text": [
      "Hello Welcome to Python 101\n"
     ]
    }
   ],
   "source": [
    "\"\"\"23. How do you use re.sub() to remove all special characters from a string, leaving only \n",
    "alphanumeric and spaces?\"\"\"\n",
    "import re\n",
    "\n",
    "def remove_special_chars(s):\n",
    "    return re.sub(r'[^a-zA-Z0-9 ]', '', s)\n",
    "\n",
    "print(remove_special_chars(\"Hello! Welcome to Python #101.\"))"
   ]
  },
  {
   "cell_type": "code",
   "execution_count": null,
   "id": "1263f086-a4ac-48e0-8bd7-750aa84d147c",
   "metadata": {},
   "outputs": [
    {
     "name": "stdout",
     "output_type": "stream",
     "text": [
      "50 30\n"
     ]
    }
   ],
   "source": [
    "\"\"\"How do you define a class Rectangle with methods to compute area and perimeter, and use it \n",
    "with sample inputs?\"\"\"\n",
    "class Rectangle:\n",
    "    def __init__(self, width, height):\n",
    "        self.width = width\n",
    "        self.height = height\n",
    "    \n",
    "    def area(self):\n",
    "        return self.width * self.height\n",
    "    \n",
    "    def perimeter(self):\n",
    "        return 2 * (self.width + self.height)\n",
    "\n",
    "rect = Rectangle(5, 10)\n",
    "print(rect.area(), rect.perimeter())"
   ]
  },
  {
   "cell_type": "code",
   "execution_count": null,
   "id": "4cd98351-7f69-4107-a054-723d2b05694b",
   "metadata": {},
   "outputs": [
    {
     "name": "stdout",
     "output_type": "stream",
     "text": [
      "120\n"
     ]
    }
   ],
   "source": [
    "\"\"\"25. Write a class BankAccount with deposit() and withdraw() methods. How do you prevent the \n",
    "balance from going negative?\"\"\"\n",
    "class BankAccount:\n",
    "    def __init__(self, balance=0):\n",
    "        self.balance = balance\n",
    "\n",
    "    def deposit(self, amount):\n",
    "        self.balance += amount\n",
    "\n",
    "    def withdraw(self, amount):\n",
    "        if amount <= self.balance:\n",
    "            self.balance -= amount\n",
    "        else:\n",
    "            print(\"Insufficient funds\")\n",
    "\n",
    "account = BankAccount(100)\n",
    "account.deposit(50)\n",
    "account.withdraw(30)\n",
    "print(account.balance)"
   ]
  },
  {
   "cell_type": "code",
   "execution_count": null,
   "id": "f0553a48-15d6-4966-b5c5-317eef59e9f7",
   "metadata": {},
   "outputs": [],
   "source": []
  }
 ],
 "metadata": {
  "kernelspec": {
   "display_name": "base",
   "language": "python",
   "name": "python3"
  },
  "language_info": {
   "codemirror_mode": {
    "name": "ipython",
    "version": 3
   },
   "file_extension": ".py",
   "mimetype": "text/x-python",
   "name": "python",
   "nbconvert_exporter": "python",
   "pygments_lexer": "ipython3",
   "version": "3.12.7"
  }
 },
 "nbformat": 4,
 "nbformat_minor": 5
}
